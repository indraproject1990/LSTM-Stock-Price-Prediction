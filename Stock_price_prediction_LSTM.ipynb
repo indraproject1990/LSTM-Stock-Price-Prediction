{
 "cells": [
  {
   "cell_type": "markdown",
   "metadata": {},
   "source": [
    "### 1. Problem statement\n",
    " - We are given Google stock price from 01/2012 to 12/2017. \n",
    " - The task is to predict the trend of the stock price for 01-06 2018. "
   ]
  },
  {
   "cell_type": "markdown",
   "metadata": {},
   "source": [
    "### 2. Import library"
   ]
  },
  {
   "cell_type": "code",
   "execution_count": 1,
   "metadata": {},
   "outputs": [],
   "source": [
    "import numpy as np\n",
    "import matplotlib.pyplot as plt\n",
    "import pandas as pd\n",
    "from sklearn.preprocessing import MinMaxScaler\n",
    "from tensorflow.keras.models import Sequential\n",
    "from tensorflow.keras.layers import LSTM\n",
    "from tensorflow.keras.layers import Dense\n",
    "from tensorflow.keras.layers import Dropout"
   ]
  },
  {
   "cell_type": "markdown",
   "metadata": {},
   "source": [
    "### 3. Data processing"
   ]
  },
  {
   "cell_type": "markdown",
   "metadata": {},
   "source": [
    "#### 3.0 import the data"
   ]
  },
  {
   "cell_type": "code",
   "execution_count": 2,
   "metadata": {},
   "outputs": [],
   "source": [
    "dataset_train = pd.read_csv('Google_Stock_Price_Train.csv')"
   ]
  },
  {
   "cell_type": "code",
   "execution_count": 8,
   "metadata": {},
   "outputs": [
    {
     "data": {
      "text/html": [
       "<div>\n",
       "<style scoped>\n",
       "    .dataframe tbody tr th:only-of-type {\n",
       "        vertical-align: middle;\n",
       "    }\n",
       "\n",
       "    .dataframe tbody tr th {\n",
       "        vertical-align: top;\n",
       "    }\n",
       "\n",
       "    .dataframe thead th {\n",
       "        text-align: right;\n",
       "    }\n",
       "</style>\n",
       "<table border=\"1\" class=\"dataframe\">\n",
       "  <thead>\n",
       "    <tr style=\"text-align: right;\">\n",
       "      <th></th>\n",
       "      <th>Date</th>\n",
       "      <th>Open</th>\n",
       "      <th>High</th>\n",
       "      <th>Low</th>\n",
       "      <th>Close</th>\n",
       "      <th>Volume</th>\n",
       "    </tr>\n",
       "  </thead>\n",
       "  <tbody>\n",
       "    <tr>\n",
       "      <th>0</th>\n",
       "      <td>01/03/2012</td>\n",
       "      <td>325.25</td>\n",
       "      <td>332.83</td>\n",
       "      <td>324.97</td>\n",
       "      <td>663.59</td>\n",
       "      <td>7,380,500</td>\n",
       "    </tr>\n",
       "    <tr>\n",
       "      <th>1</th>\n",
       "      <td>01/04/2012</td>\n",
       "      <td>331.27</td>\n",
       "      <td>333.87</td>\n",
       "      <td>329.08</td>\n",
       "      <td>666.45</td>\n",
       "      <td>5,749,400</td>\n",
       "    </tr>\n",
       "    <tr>\n",
       "      <th>2</th>\n",
       "      <td>01/05/2012</td>\n",
       "      <td>329.83</td>\n",
       "      <td>330.75</td>\n",
       "      <td>326.89</td>\n",
       "      <td>657.21</td>\n",
       "      <td>6,590,300</td>\n",
       "    </tr>\n",
       "    <tr>\n",
       "      <th>3</th>\n",
       "      <td>01/06/2012</td>\n",
       "      <td>328.34</td>\n",
       "      <td>328.77</td>\n",
       "      <td>323.68</td>\n",
       "      <td>648.24</td>\n",
       "      <td>5,405,900</td>\n",
       "    </tr>\n",
       "    <tr>\n",
       "      <th>4</th>\n",
       "      <td>01/09/2012</td>\n",
       "      <td>322.04</td>\n",
       "      <td>322.29</td>\n",
       "      <td>309.46</td>\n",
       "      <td>620.76</td>\n",
       "      <td>11,688,800</td>\n",
       "    </tr>\n",
       "  </tbody>\n",
       "</table>\n",
       "</div>"
      ],
      "text/plain": [
       "         Date    Open    High     Low   Close      Volume\n",
       "0  01/03/2012  325.25  332.83  324.97  663.59   7,380,500\n",
       "1  01/04/2012  331.27  333.87  329.08  666.45   5,749,400\n",
       "2  01/05/2012  329.83  330.75  326.89  657.21   6,590,300\n",
       "3  01/06/2012  328.34  328.77  323.68  648.24   5,405,900\n",
       "4  01/09/2012  322.04  322.29  309.46  620.76  11,688,800"
      ]
     },
     "execution_count": 8,
     "metadata": {},
     "output_type": "execute_result"
    }
   ],
   "source": [
    "dataset_train.head()"
   ]
  },
  {
   "cell_type": "code",
   "execution_count": 9,
   "metadata": {},
   "outputs": [],
   "source": [
    "#keras only takes numpy array\n",
    "training_set = dataset_train.iloc[:, 1: 2].values"
   ]
  },
  {
   "cell_type": "code",
   "execution_count": 10,
   "metadata": {},
   "outputs": [
    {
     "data": {
      "text/plain": [
       "(1509, 1)"
      ]
     },
     "execution_count": 10,
     "metadata": {},
     "output_type": "execute_result"
    }
   ],
   "source": [
    "training_set.shape"
   ]
  },
  {
   "cell_type": "markdown",
   "metadata": {},
   "source": [
    "#### 3.1 Feature scaling"
   ]
  },
  {
   "cell_type": "code",
   "execution_count": 11,
   "metadata": {},
   "outputs": [],
   "source": [
    "sc = MinMaxScaler(feature_range = (0, 1))\n",
    "#fit: get min/max of train data\n",
    "training_set_scaled = sc.fit_transform(training_set)"
   ]
  },
  {
   "cell_type": "markdown",
   "metadata": {},
   "source": [
    "#### 3.2 Data structure creation"
   ]
  },
  {
   "cell_type": "markdown",
   "metadata": {},
   "source": [
    "taking the reference of past 60 days of data to predict the future stock price.  \n",
    "It is observed that taking 60 days of past data gives us best results.  \n",
    "In this data set 60 days of data means 3 months of data.  \n",
    "Every month as 20 days of Stock price.   \n",
    "X train will have data of 60 days prior to our date and y train will have data of one day after our date"
   ]
  },
  {
   "cell_type": "code",
   "execution_count": 12,
   "metadata": {},
   "outputs": [],
   "source": [
    "## 60 timesteps and 1 output\n",
    "X_train = []\n",
    "y_train = []\n",
    "for i in range(60, len(training_set_scaled)):\n",
    "    X_train.append(training_set_scaled[i-60: i, 0])\n",
    "    y_train.append(training_set_scaled[i, 0])\n",
    "\n",
    "X_train, y_train = np.array(X_train), np.array(y_train)"
   ]
  },
  {
   "cell_type": "code",
   "execution_count": 14,
   "metadata": {},
   "outputs": [
    {
     "data": {
      "text/plain": [
       "(1449, 60)"
      ]
     },
     "execution_count": 14,
     "metadata": {},
     "output_type": "execute_result"
    }
   ],
   "source": [
    "X_train.shape"
   ]
  },
  {
   "cell_type": "code",
   "execution_count": 15,
   "metadata": {},
   "outputs": [
    {
     "data": {
      "text/plain": [
       "(1449,)"
      ]
     },
     "execution_count": 15,
     "metadata": {},
     "output_type": "execute_result"
    }
   ],
   "source": [
    "y_train.shape"
   ]
  },
  {
   "cell_type": "markdown",
   "metadata": {},
   "source": [
    "#### 3.3 Data reshaping"
   ]
  },
  {
   "cell_type": "code",
   "execution_count": 16,
   "metadata": {},
   "outputs": [],
   "source": [
    "X_train = np.reshape(X_train, newshape = \n",
    "                     (X_train.shape[0], X_train.shape[1], 1))"
   ]
  },
  {
   "cell_type": "markdown",
   "metadata": {},
   "source": [
    "1. Number of stock prices - 1449  \n",
    "2. Number of time steps - 60  \n",
    "3. Number of Indicator - 1  "
   ]
  },
  {
   "cell_type": "code",
   "execution_count": 17,
   "metadata": {},
   "outputs": [
    {
     "data": {
      "text/plain": [
       "(1449, 60, 1)"
      ]
     },
     "execution_count": 17,
     "metadata": {},
     "output_type": "execute_result"
    }
   ],
   "source": [
    "X_train.shape"
   ]
  },
  {
   "cell_type": "markdown",
   "metadata": {},
   "source": [
    "### 4. Create & Fit Model"
   ]
  },
  {
   "cell_type": "markdown",
   "metadata": {},
   "source": [
    "#### 4.1 Create model"
   ]
  },
  {
   "cell_type": "code",
   "execution_count": 18,
   "metadata": {},
   "outputs": [],
   "source": [
    "regressor = Sequential()\n",
    "#add 1st lstm layer\n",
    "regressor.add(LSTM(units = 50, return_sequences = True, input_shape = (X_train.shape[1], 1)))\n",
    "regressor.add(Dropout(rate = 0.2))\n",
    "\n",
    "##add 2nd lstm layer: 50 neurons\n",
    "regressor.add(LSTM(units = 50, return_sequences = True))\n",
    "regressor.add(Dropout(rate = 0.2))\n",
    "\n",
    "##add 3rd lstm layer\n",
    "regressor.add(LSTM(units = 50, return_sequences = True))\n",
    "regressor.add(Dropout(rate = 0.2))\n",
    "\n",
    "##add 4th lstm layer\n",
    "regressor.add(LSTM(units = 50, return_sequences = False))\n",
    "regressor.add(Dropout(rate = 0.2))\n",
    "\n",
    "##add output layer\n",
    "regressor.add(Dense(units = 1))"
   ]
  },
  {
   "cell_type": "code",
   "execution_count": 19,
   "metadata": {},
   "outputs": [],
   "source": [
    "regressor.compile(optimizer = 'adam', loss = 'mean_squared_error')"
   ]
  },
  {
   "cell_type": "markdown",
   "metadata": {},
   "source": [
    "#### 4.2 Model fit"
   ]
  },
  {
   "cell_type": "code",
   "execution_count": 20,
   "metadata": {
    "scrolled": true
   },
   "outputs": [
    {
     "name": "stdout",
     "output_type": "stream",
     "text": [
      "Epoch 1/100\n",
      "46/46 [==============================] - 8s 167ms/step - loss: 0.0173 0s - loss: 0.0\n",
      "Epoch 2/100\n",
      "46/46 [==============================] - 8s 176ms/step - loss: 0.0042\n",
      "Epoch 3/100\n",
      "46/46 [==============================] - 10s 216ms/step - loss: 0.0038\n",
      "Epoch 4/100\n",
      "46/46 [==============================] - 9s 192ms/step - loss: 0.0033\n",
      "Epoch 5/100\n",
      "46/46 [==============================] - 10s 211ms/step - loss: 0.0031\n",
      "Epoch 6/100\n",
      "46/46 [==============================] - 8s 169ms/step - loss: 0.0030\n",
      "Epoch 7/100\n",
      "46/46 [==============================] - 10s 222ms/step - loss: 0.0031\n",
      "Epoch 8/100\n",
      "46/46 [==============================] - 11s 229ms/step - loss: 0.00370s - loss: 0.00\n",
      "Epoch 9/100\n",
      "46/46 [==============================] - 10s 218ms/step - loss: 0.0025\n",
      "Epoch 10/100\n",
      "46/46 [==============================] - 8s 171ms/step - loss: 0.0030\n",
      "Epoch 11/100\n",
      "46/46 [==============================] - 9s 198ms/step - loss: 0.0027\n",
      "Epoch 12/100\n",
      "46/46 [==============================] - 9s 195ms/step - loss: 0.0026\n",
      "Epoch 13/100\n",
      "46/46 [==============================] - 10s 217ms/step - loss: 0.0024\n",
      "Epoch 14/100\n",
      "46/46 [==============================] - 9s 201ms/step - loss: 0.0026\n",
      "Epoch 15/100\n",
      "46/46 [==============================] - 9s 195ms/step - loss: 0.0025\n",
      "Epoch 16/100\n",
      "46/46 [==============================] - 9s 190ms/step - loss: 0.0023\n",
      "Epoch 17/100\n",
      "46/46 [==============================] - 8s 177ms/step - loss: 0.0022\n",
      "Epoch 18/100\n",
      "46/46 [==============================] - 7s 163ms/step - loss: 0.0022\n",
      "Epoch 19/100\n",
      "46/46 [==============================] - 8s 164ms/step - loss: 0.0021\n",
      "Epoch 20/100\n",
      "46/46 [==============================] - 6s 133ms/step - loss: 0.0020\n",
      "Epoch 21/100\n",
      "46/46 [==============================] - 7s 143ms/step - loss: 0.0020\n",
      "Epoch 22/100\n",
      "46/46 [==============================] - 8s 165ms/step - loss: 0.0020\n",
      "Epoch 23/100\n",
      "46/46 [==============================] - 7s 156ms/step - loss: 0.0019\n",
      "Epoch 24/100\n",
      "46/46 [==============================] - 9s 186ms/step - loss: 0.0019\n",
      "Epoch 25/100\n",
      "46/46 [==============================] - 7s 163ms/step - loss: 0.0019\n",
      "Epoch 26/100\n",
      "46/46 [==============================] - 7s 153ms/step - loss: 0.0023\n",
      "Epoch 27/100\n",
      "46/46 [==============================] - 7s 157ms/step - loss: 0.0018\n",
      "Epoch 28/100\n",
      "46/46 [==============================] - 8s 167ms/step - loss: 0.0019\n",
      "Epoch 29/100\n",
      "46/46 [==============================] - 7s 152ms/step - loss: 0.0019\n",
      "Epoch 30/100\n",
      "46/46 [==============================] - 6s 139ms/step - loss: 0.0018\n",
      "Epoch 31/100\n",
      "46/46 [==============================] - 8s 175ms/step - loss: 0.0017\n",
      "Epoch 32/100\n",
      "46/46 [==============================] - 9s 190ms/step - loss: 0.0021\n",
      "Epoch 33/100\n",
      "46/46 [==============================] - 8s 181ms/step - loss: 0.0018\n",
      "Epoch 34/100\n",
      "46/46 [==============================] - 7s 151ms/step - loss: 0.0017\n",
      "Epoch 35/100\n",
      "46/46 [==============================] - 6s 140ms/step - loss: 0.0016\n",
      "Epoch 36/100\n",
      "46/46 [==============================] - 7s 156ms/step - loss: 0.0014\n",
      "Epoch 37/100\n",
      "46/46 [==============================] - 5s 119ms/step - loss: 0.0015\n",
      "Epoch 38/100\n",
      "46/46 [==============================] - 5s 107ms/step - loss: 0.0017\n",
      "Epoch 39/100\n",
      "46/46 [==============================] - 5s 106ms/step - loss: 0.0016\n",
      "Epoch 40/100\n",
      "46/46 [==============================] - 5s 110ms/step - loss: 0.0016\n",
      "Epoch 41/100\n",
      "46/46 [==============================] - 5s 107ms/step - loss: 0.0016\n",
      "Epoch 42/100\n",
      "46/46 [==============================] - 5s 110ms/step - loss: 0.0014\n",
      "Epoch 43/100\n",
      "46/46 [==============================] - 5s 107ms/step - loss: 0.0013\n",
      "Epoch 44/100\n",
      "46/46 [==============================] - 6s 137ms/step - loss: 0.0015\n",
      "Epoch 45/100\n",
      "46/46 [==============================] - 5s 115ms/step - loss: 0.0015\n",
      "Epoch 46/100\n",
      "46/46 [==============================] - 5s 110ms/step - loss: 0.0014\n",
      "Epoch 47/100\n",
      "46/46 [==============================] - 4s 98ms/step - loss: 0.0013\n",
      "Epoch 48/100\n",
      "46/46 [==============================] - 5s 98ms/step - loss: 0.0013\n",
      "Epoch 49/100\n",
      "46/46 [==============================] - 5s 100ms/step - loss: 0.0013\n",
      "Epoch 50/100\n",
      "46/46 [==============================] - 5s 101ms/step - loss: 0.0013 0s - loss: \n",
      "Epoch 51/100\n",
      "46/46 [==============================] - 5s 109ms/step - loss: 0.0015\n",
      "Epoch 52/100\n",
      "46/46 [==============================] - 5s 104ms/step - loss: 0.0013\n",
      "Epoch 53/100\n",
      "46/46 [==============================] - 5s 112ms/step - loss: 0.0014\n",
      "Epoch 54/100\n",
      "46/46 [==============================] - 6s 122ms/step - loss: 0.0014\n",
      "Epoch 55/100\n",
      "46/46 [==============================] - 5s 104ms/step - loss: 0.0014\n",
      "Epoch 56/100\n",
      "46/46 [==============================] - 6s 123ms/step - loss: 0.0014\n",
      "Epoch 57/100\n",
      "46/46 [==============================] - 6s 134ms/step - loss: 0.0012\n",
      "Epoch 58/100\n",
      "46/46 [==============================] - 6s 127ms/step - loss: 0.0013\n",
      "Epoch 59/100\n",
      "46/46 [==============================] - 5s 115ms/step - loss: 0.0013\n",
      "Epoch 60/100\n",
      "46/46 [==============================] - 7s 149ms/step - loss: 0.0012\n",
      "Epoch 61/100\n",
      "46/46 [==============================] - 7s 159ms/step - loss: 0.0013\n",
      "Epoch 62/100\n",
      "46/46 [==============================] - 6s 122ms/step - loss: 0.0012\n",
      "Epoch 63/100\n",
      "46/46 [==============================] - 5s 105ms/step - loss: 0.0011\n",
      "Epoch 64/100\n",
      "46/46 [==============================] - 5s 101ms/step - loss: 0.0012\n",
      "Epoch 65/100\n",
      "46/46 [==============================] - 5s 103ms/step - loss: 0.0013\n",
      "Epoch 66/100\n",
      "46/46 [==============================] - 6s 139ms/step - loss: 0.0011\n",
      "Epoch 67/100\n",
      "46/46 [==============================] - 6s 129ms/step - loss: 0.0012\n",
      "Epoch 68/100\n",
      "46/46 [==============================] - 5s 116ms/step - loss: 0.0010\n",
      "Epoch 69/100\n",
      "46/46 [==============================] - 6s 140ms/step - loss: 0.0011\n",
      "Epoch 70/100\n",
      "46/46 [==============================] - 6s 132ms/step - loss: 0.0011\n",
      "Epoch 71/100\n",
      "46/46 [==============================] - 6s 125ms/step - loss: 0.0011\n",
      "Epoch 72/100\n",
      "46/46 [==============================] - 6s 121ms/step - loss: 0.0011\n",
      "Epoch 73/100\n",
      "46/46 [==============================] - 5s 101ms/step - loss: 0.0012\n",
      "Epoch 74/100\n",
      "46/46 [==============================] - 4s 94ms/step - loss: 0.0011\n",
      "Epoch 75/100\n",
      "46/46 [==============================] - 5s 98ms/step - loss: 0.0011\n",
      "Epoch 76/100\n",
      "46/46 [==============================] - 4s 94ms/step - loss: 0.0011\n",
      "Epoch 77/100\n",
      "46/46 [==============================] - 4s 95ms/step - loss: 0.0012\n",
      "Epoch 78/100\n",
      "46/46 [==============================] - 4s 96ms/step - loss: 0.0011\n",
      "Epoch 79/100\n",
      "46/46 [==============================] - 5s 108ms/step - loss: 0.0010\n",
      "Epoch 80/100\n",
      "46/46 [==============================] - 6s 122ms/step - loss: 0.0011\n",
      "Epoch 81/100\n",
      "46/46 [==============================] - 6s 127ms/step - loss: 0.0010\n",
      "Epoch 82/100\n",
      "46/46 [==============================] - 5s 118ms/step - loss: 0.0012\n",
      "Epoch 83/100\n",
      "46/46 [==============================] - 5s 102ms/step - loss: 0.0010\n",
      "Epoch 84/100\n",
      "46/46 [==============================] - 6s 130ms/step - loss: 0.0011\n",
      "Epoch 85/100\n",
      "46/46 [==============================] - 6s 123ms/step - loss: 9.5665e-04\n",
      "Epoch 86/100\n",
      "46/46 [==============================] - 5s 98ms/step - loss: 9.9804e-04\n",
      "Epoch 87/100\n",
      "46/46 [==============================] - 5s 116ms/step - loss: 0.0012\n",
      "Epoch 88/100\n",
      "46/46 [==============================] - 5s 102ms/step - loss: 0.0010\n",
      "Epoch 89/100\n",
      "46/46 [==============================] - 6s 122ms/step - loss: 9.5425e-04\n",
      "Epoch 90/100\n",
      "46/46 [==============================] - 5s 116ms/step - loss: 9.6772e-04\n",
      "Epoch 91/100\n",
      "46/46 [==============================] - 6s 122ms/step - loss: 9.2124e-04\n",
      "Epoch 92/100\n",
      "46/46 [==============================] - 6s 124ms/step - loss: 9.2239e-04\n",
      "Epoch 93/100\n",
      "46/46 [==============================] - 5s 110ms/step - loss: 9.6528e-04\n",
      "Epoch 94/100\n",
      "46/46 [==============================] - 6s 123ms/step - loss: 0.0010\n",
      "Epoch 95/100\n",
      "46/46 [==============================] - 6s 124ms/step - loss: 8.5430e-04\n",
      "Epoch 96/100\n",
      "46/46 [==============================] - 6s 136ms/step - loss: 9.2644e-04\n",
      "Epoch 97/100\n",
      "46/46 [==============================] - 6s 137ms/step - loss: 8.9546e-04\n",
      "Epoch 98/100\n"
     ]
    },
    {
     "name": "stdout",
     "output_type": "stream",
     "text": [
      "46/46 [==============================] - 5s 111ms/step - loss: 9.3553e-04\n",
      "Epoch 99/100\n",
      "46/46 [==============================] - 6s 123ms/step - loss: 9.6576e-04\n",
      "Epoch 100/100\n",
      "46/46 [==============================] - 6s 123ms/step - loss: 8.7687e-04\n"
     ]
    },
    {
     "data": {
      "text/plain": [
       "<tensorflow.python.keras.callbacks.History at 0x1af95ed51d0>"
      ]
     },
     "execution_count": 20,
     "metadata": {},
     "output_type": "execute_result"
    }
   ],
   "source": [
    "regressor.fit(x = X_train, y = y_train, batch_size = 32, epochs = 100)"
   ]
  },
  {
   "cell_type": "markdown",
   "metadata": {},
   "source": [
    "#### 4.3 Model evaluation"
   ]
  },
  {
   "cell_type": "markdown",
   "metadata": {},
   "source": [
    "#### 4.3.1 Read and convert"
   ]
  },
  {
   "cell_type": "code",
   "execution_count": 22,
   "metadata": {},
   "outputs": [],
   "source": [
    "dataset_test = pd.read_csv('Google_Stock_Price_Test.csv')"
   ]
  },
  {
   "cell_type": "code",
   "execution_count": 23,
   "metadata": {},
   "outputs": [
    {
     "data": {
      "text/html": [
       "<div>\n",
       "<style scoped>\n",
       "    .dataframe tbody tr th:only-of-type {\n",
       "        vertical-align: middle;\n",
       "    }\n",
       "\n",
       "    .dataframe tbody tr th {\n",
       "        vertical-align: top;\n",
       "    }\n",
       "\n",
       "    .dataframe thead th {\n",
       "        text-align: right;\n",
       "    }\n",
       "</style>\n",
       "<table border=\"1\" class=\"dataframe\">\n",
       "  <thead>\n",
       "    <tr style=\"text-align: right;\">\n",
       "      <th></th>\n",
       "      <th>Date</th>\n",
       "      <th>Open</th>\n",
       "      <th>High</th>\n",
       "      <th>Low</th>\n",
       "      <th>Close</th>\n",
       "      <th>Volume</th>\n",
       "    </tr>\n",
       "  </thead>\n",
       "  <tbody>\n",
       "    <tr>\n",
       "      <th>0</th>\n",
       "      <td>02/01/2018</td>\n",
       "      <td>1048.339966</td>\n",
       "      <td>1066.939941</td>\n",
       "      <td>1045.229980</td>\n",
       "      <td>1065.000000</td>\n",
       "      <td>1237600</td>\n",
       "    </tr>\n",
       "    <tr>\n",
       "      <th>1</th>\n",
       "      <td>03/01/2018</td>\n",
       "      <td>1064.310059</td>\n",
       "      <td>1086.290039</td>\n",
       "      <td>1063.209961</td>\n",
       "      <td>1082.479980</td>\n",
       "      <td>1430200</td>\n",
       "    </tr>\n",
       "    <tr>\n",
       "      <th>2</th>\n",
       "      <td>04/01/2018</td>\n",
       "      <td>1088.000000</td>\n",
       "      <td>1093.569946</td>\n",
       "      <td>1084.001953</td>\n",
       "      <td>1086.400024</td>\n",
       "      <td>1004600</td>\n",
       "    </tr>\n",
       "    <tr>\n",
       "      <th>3</th>\n",
       "      <td>05/01/2018</td>\n",
       "      <td>1094.000000</td>\n",
       "      <td>1104.250000</td>\n",
       "      <td>1092.000000</td>\n",
       "      <td>1102.229980</td>\n",
       "      <td>1279100</td>\n",
       "    </tr>\n",
       "    <tr>\n",
       "      <th>4</th>\n",
       "      <td>08/01/2018</td>\n",
       "      <td>1102.229980</td>\n",
       "      <td>1111.270020</td>\n",
       "      <td>1101.619995</td>\n",
       "      <td>1106.939941</td>\n",
       "      <td>1047600</td>\n",
       "    </tr>\n",
       "  </tbody>\n",
       "</table>\n",
       "</div>"
      ],
      "text/plain": [
       "         Date         Open         High          Low        Close   Volume\n",
       "0  02/01/2018  1048.339966  1066.939941  1045.229980  1065.000000  1237600\n",
       "1  03/01/2018  1064.310059  1086.290039  1063.209961  1082.479980  1430200\n",
       "2  04/01/2018  1088.000000  1093.569946  1084.001953  1086.400024  1004600\n",
       "3  05/01/2018  1094.000000  1104.250000  1092.000000  1102.229980  1279100\n",
       "4  08/01/2018  1102.229980  1111.270020  1101.619995  1106.939941  1047600"
      ]
     },
     "execution_count": 23,
     "metadata": {},
     "output_type": "execute_result"
    }
   ],
   "source": [
    "dataset_test.head()"
   ]
  },
  {
   "cell_type": "code",
   "execution_count": 25,
   "metadata": {},
   "outputs": [
    {
     "data": {
      "text/plain": [
       "(125, 1)"
      ]
     },
     "execution_count": 25,
     "metadata": {},
     "output_type": "execute_result"
    }
   ],
   "source": [
    "#keras only takes numpy array\n",
    "real_stock_price = dataset_test.iloc[:, 1: 2].values\n",
    "real_stock_price.shape"
   ]
  },
  {
   "cell_type": "markdown",
   "metadata": {},
   "source": [
    "#### 4.3.2 Concat and convert"
   ]
  },
  {
   "cell_type": "code",
   "execution_count": 26,
   "metadata": {},
   "outputs": [],
   "source": [
    "#vertical concat use 0, horizontal uses 1\n",
    "dataset_total = pd.concat((dataset_train['Open'], dataset_test['Open']), \n",
    "                          axis = 0)\n",
    "##use .values to make numpy array\n",
    "inputs = dataset_total[len(dataset_total) - len(dataset_test) - 60:].values"
   ]
  },
  {
   "cell_type": "markdown",
   "metadata": {},
   "source": [
    "#### 4.3.3 Reshape and scale"
   ]
  },
  {
   "cell_type": "code",
   "execution_count": 27,
   "metadata": {},
   "outputs": [],
   "source": [
    "#reshape data to only have 1 col\n",
    "inputs = inputs.reshape(-1, 1)\n",
    "\n",
    "#scale input\n",
    "inputs = sc.transform(inputs)"
   ]
  },
  {
   "cell_type": "code",
   "execution_count": 33,
   "metadata": {},
   "outputs": [
    {
     "data": {
      "text/plain": [
       "185"
      ]
     },
     "execution_count": 33,
     "metadata": {},
     "output_type": "execute_result"
    }
   ],
   "source": [
    "len(inputs)"
   ]
  },
  {
   "cell_type": "markdown",
   "metadata": {},
   "source": [
    "#### 4.3.4 Create test data strucutre"
   ]
  },
  {
   "cell_type": "code",
   "execution_count": 34,
   "metadata": {},
   "outputs": [],
   "source": [
    "X_test = []\n",
    "for i in range(60, len(inputs)):\n",
    "    X_test.append(inputs[i-60:i, 0])\n",
    "X_test = np.array(X_test)\n",
    "#add dimension of indicator\n",
    "X_test = np.reshape(X_test, (X_test.shape[0], X_test.shape[1], 1))"
   ]
  },
  {
   "cell_type": "code",
   "execution_count": 35,
   "metadata": {},
   "outputs": [
    {
     "data": {
      "text/plain": [
       "(125, 60, 1)"
      ]
     },
     "execution_count": 35,
     "metadata": {},
     "output_type": "execute_result"
    }
   ],
   "source": [
    "X_test.shape"
   ]
  },
  {
   "cell_type": "markdown",
   "metadata": {},
   "source": [
    "#### 4.3.5 Model prediction"
   ]
  },
  {
   "cell_type": "code",
   "execution_count": 36,
   "metadata": {},
   "outputs": [],
   "source": [
    "predicted_stock_price = regressor.predict(X_test)"
   ]
  },
  {
   "cell_type": "code",
   "execution_count": 37,
   "metadata": {},
   "outputs": [],
   "source": [
    "#inverse the scaled value\n",
    "predicted_stock_price = sc.inverse_transform(predicted_stock_price)"
   ]
  },
  {
   "cell_type": "markdown",
   "metadata": {},
   "source": [
    "#### 4.3.6 Result visualization"
   ]
  },
  {
   "cell_type": "code",
   "execution_count": 38,
   "metadata": {},
   "outputs": [
    {
     "data": {
      "image/png": "[encoded data removed]",
      "text/plain": [
       "<Figure size 432x288 with 1 Axes>"
      ]
     },
     "metadata": {
      "needs_background": "light"
     },
     "output_type": "display_data"
    }
   ],
   "source": [
    "##visualize the prediction and real price\n",
    "plt.plot(real_stock_price, color = 'red', label = 'Real price')\n",
    "plt.plot(predicted_stock_price, color = 'blue', label = 'Predicted price')\n",
    "\n",
    "plt.title('Google price prediction')\n",
    "plt.xlabel('Time')\n",
    "plt.ylabel('Price')\n",
    "plt.legend()\n",
    "plt.show()"
   ]
  },
  {
   "cell_type": "code",
   "execution_count": null,
   "metadata": {},
   "outputs": [],
   "source": []
  },
  {
   "cell_type": "code",
   "execution_count": null,
   "metadata": {},
   "outputs": [],
   "source": []
  }
 ],
 "metadata": {
  "kernelspec": {
   "display_name": "Python 3",
   "language": "python",
   "name": "python3"
  },
  "language_info": {
   "codemirror_mode": {
    "name": "ipython",
    "version": 3
   },
   "file_extension": ".py",
   "mimetype": "text/x-python",
   "name": "python",
   "nbconvert_exporter": "python",
   "pygments_lexer": "ipython3",
   "version": "3.7.3"
  }
 },
 "nbformat": 4,
 "nbformat_minor": 4
}
